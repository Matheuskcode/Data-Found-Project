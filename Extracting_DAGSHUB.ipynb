{
 "cells": [
  {
   "cell_type": "code",
   "execution_count": null,
   "id": "021cda8d",
   "metadata": {},
   "outputs": [
    {
     "data": {
      "application/vnd.jupyter.widget-view+json": {
       "model_id": "bc52ee4f45954f3b9f2e66518d5ff3b8",
       "version_major": 2,
       "version_minor": 0
      },
      "text/plain": [
       "FloatProgress(value=0.0, layout=Layout(width='auto'), style=ProgressStyle(bar_color='black'))"
      ]
     },
     "metadata": {},
     "output_type": "display_data"
    },
    {
     "name": "stdout",
     "output_type": "stream",
     "text": [
      "Ratings shape: (10000054, 4)\n",
      "Movies shape: (10681, 3)\n",
      "Tags shape: (95580, 4)\n",
      "\n",
      "Distribuição de notas:\n",
      "rating\n",
      "0.5      94988\n",
      "1.0     384180\n",
      "1.5     118278\n",
      "2.0     790306\n",
      "2.5     370178\n",
      "3.0    2356676\n",
      "3.5     879764\n",
      "4.0    2875850\n",
      "4.5     585022\n",
      "5.0    1544812\n",
      "Name: count, dtype: int64\n",
      "\n",
      "Top 5 filmes mais avaliados:\n",
      "   movieId                             title      0\n",
      "0      296               Pulp Fiction (1994)  34864\n",
      "1      356               Forrest Gump (1994)  34457\n",
      "2      593  Silence of the Lambs, The (1991)  33668\n",
      "3      480              Jurassic Park (1993)  32631\n",
      "4      318  Shawshank Redemption, The (1994)  31126\n"
     ]
    }
   ],
   "source": [
    "import duckdb\n",
    "import pandas as pd\n",
    "\n",
    "# --- 1. Definir URLs dos arquivos no DagsHub ---\n",
    "base_url = \"https://dagshub.com/Matheuskcode/Big-Data-Found/raw/main/data\"\n",
    "\n",
    "files = {\n",
    "    \"ratings\": f\"{base_url}/ratings.dat\",\n",
    "    \"movies\": f\"{base_url}/movies.dat\",\n",
    "    \"tags\": f\"{base_url}/tags.dat\"\n",
    "}\n",
    "\n",
    "# --- 2. Conectar ao DuckDB ---\n",
    "con = duckdb.connect()\n",
    "\n",
    "# --- 3. Ler arquivos .dat direto da URL ---\n",
    "ratings = con.execute(f\"\"\"\n",
    "    SELECT * FROM read_csv_auto('{files['ratings']}',\n",
    "        delim='::',\n",
    "        columns={{'userId':'BIGINT','movieId':'BIGINT','rating':'DOUBLE','timestamp':'BIGINT'}},\n",
    "        ignore_errors=true,\n",
    "        quote=''\n",
    "    )\n",
    "\"\"\").df()\n",
    "\n",
    "movies = con.execute(f\"\"\"\n",
    "    SELECT * FROM read_csv_auto('{files['movies']}',\n",
    "        delim='::',\n",
    "        columns={{'movieId':'BIGINT','title':'VARCHAR','genres':'VARCHAR'}},\n",
    "        ignore_errors=true,\n",
    "        quote=''\n",
    "    )\n",
    "\"\"\").df()\n",
    "\n",
    "tags = con.execute(f\"\"\"\n",
    "    SELECT * FROM read_csv_auto('{files['tags']}',\n",
    "        delim='::',\n",
    "        columns={{'userId':'BIGINT','movieId':'BIGINT','tag':'VARCHAR','timestamp':'BIGINT'}},\n",
    "        ignore_errors=true,\n",
    "        quote=''\n",
    "    )\n",
    "\"\"\").df()\n",
    "0\n",
    "  n  \n",
    "# --- 4. Salvar em Parquet ---\n",
    "ratings.to_parquet(\"ratings.parquet\", index=False)\n",
    "movies.to_parquet(\"movies.parquet\", index=False)\n",
    "tags.to_parquet(\"tags.parquet\", index=False)\n",
    "\n",
    "# --- 5. Análise exploratória ---\n",
    "print(\"Ratings shape:\", ratings.shape)\n",
    "print(\"Movies shape:\", movies.shape)\n",
    "print(\"Tags shape:\", tags.shape)\n",
    "\n",
    "print(\"\\nDistribuição de notas:\")\n",
    "print(ratings['rating'].value_counts().sort_index())\n",
    "\n",
    "print(\"\\nTop 5 filmes mais avaliados:\")\n",
    "top_movies = ratings.groupby(\"movieId\").size().sort_values(ascending=False).head(5)\n",
    "top_movies = top_movies.reset_index().merge(movies, on=\"movieId\")\n",
    "print(top_movies[['movieId','title',0]])"
   ]
  },
  {
   "cell_type": "code",
   "execution_count": 1,
   "id": "ffcc7a14",
   "metadata": {},
   "outputs": [
    {
     "name": "stdout",
     "output_type": "stream",
     "text": [
      "Accessing as Matheuskcode\n",
      "Uploading files (1) to \"Matheuskcode/Big-Data-Found\"...\n",
      "Upload finished successfully!\n",
      "Accessing as Matheuskcode\n",
      "Uploading files (1) to \"Matheuskcode/Big-Data-Found\"...\n",
      "Upload finished successfully!\n",
      "Accessing as Matheuskcode\n",
      "Uploading files (1) to \"Matheuskcode/Big-Data-Found\"...\n",
      "Upload finished successfully!\n"
     ]
    }
   ],
   "source": [
    "# Estando dentro da pasta do repositório local\n",
    "!dagshub upload Matheuskcode/Big-Data-Found \\\n",
    "  \"ratings.parquet\" data/ratings.parquet --update\n",
    "\n",
    "!dagshub upload Matheuskcode/Big-Data-Found \\\n",
    "  \"movies.parquet\" data/movies.parquet --update\n",
    "\n",
    "!dagshub upload Matheuskcode/Big-Data-Found \\\n",
    "  \"tags.parquet\" data/tags.parquet --update"
   ]
  },
  {
   "cell_type": "code",
   "execution_count": 1,
   "id": "cf3ac1a4",
   "metadata": {},
   "outputs": [
    {
     "name": "stdout",
     "output_type": "stream",
     "text": [
      "On branch main\n",
      "Your branch is up to date with 'origin/main'.\n",
      "\n",
      "nothing to commit, working tree clean\n"
     ]
    }
   ],
   "source": [
    "# Executa commit e push de todas as alterações para o GitHub\n",
    "!cd \"C:/Users/mathe/OneDrive/Documentos/GitHub/Data-Found-Project\" && \\\n",
    "git add . && \\\n",
    "git commit -m \"Atualiza repositório online\" && \\\n",
    "git push origin main"
   ]
  }
 ],
 "metadata": {
  "kernelspec": {
   "display_name": "base",
   "language": "python",
   "name": "python3"
  },
  "language_info": {
   "codemirror_mode": {
    "name": "ipython",
    "version": 3
   },
   "file_extension": ".py",
   "mimetype": "text/x-python",
   "name": "python",
   "nbconvert_exporter": "python",
   "pygments_lexer": "ipython3",
   "version": "3.12.7"
  }
 },
 "nbformat": 4,
 "nbformat_minor": 5
}
