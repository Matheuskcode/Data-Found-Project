{
 "cells": [
  {
   "cell_type": "code",
   "execution_count": 1,
   "id": "0f7a8c14",
   "metadata": {},
   "outputs": [
    {
     "name": "stdout",
     "output_type": "stream",
     "text": [
      "Tamanhos:\n",
      "   n_ratings\n",
      "0   10000054\n",
      "   n_movies\n",
      "0     10681\n",
      "   n_tags\n",
      "0   95580\n",
      "\n",
      "Distribuição de notas:\n"
     ]
    },
    {
     "data": {
      "application/vnd.jupyter.widget-view+json": {
       "model_id": "a3f80ab890be4498a00a5448d7778662",
       "version_major": 2,
       "version_minor": 0
      },
      "text/plain": [
       "FloatProgress(value=0.0, layout=Layout(width='auto'), style=ProgressStyle(bar_color='black'))"
      ]
     },
     "metadata": {},
     "output_type": "display_data"
    },
    {
     "name": "stdout",
     "output_type": "stream",
     "text": [
      "   rating     freq\n",
      "0     0.5    94988\n",
      "1     1.0   384180\n",
      "2     1.5   118278\n",
      "3     2.0   790306\n",
      "4     2.5   370178\n",
      "5     3.0  2356676\n",
      "6     3.5   879764\n",
      "7     4.0  2875850\n",
      "8     4.5   585022\n",
      "9     5.0  1544812\n",
      "\n",
      "Top 10 filmes mais avaliados:\n"
     ]
    },
    {
     "data": {
      "application/vnd.jupyter.widget-view+json": {
       "model_id": "d7c2a0801365493ab2ec403ea982b9c4",
       "version_major": 2,
       "version_minor": 0
      },
      "text/plain": [
       "FloatProgress(value=0.0, layout=Layout(width='auto'), style=ProgressStyle(bar_color='black'))"
      ]
     },
     "metadata": {},
     "output_type": "display_data"
    },
    {
     "name": "stdout",
     "output_type": "stream",
     "text": [
      "                                               title  n_ratings  avg_rating\n",
      "0                                Pulp Fiction (1994)      34864    4.157426\n",
      "1                                Forrest Gump (1994)      34457    4.013582\n",
      "2                   Silence of the Lambs, The (1991)      33668    4.204200\n",
      "3                               Jurassic Park (1993)      32631    3.661564\n",
      "4                   Shawshank Redemption, The (1994)      31126    4.457238\n",
      "5                                  Braveheart (1995)      29154    4.082390\n",
      "6                               Fugitive, The (1993)      28951    4.006925\n",
      "7                  Terminator 2: Judgment Day (1991)      28948    3.927698\n",
      "8  Star Wars: Episode IV - A New Hope (a.k.a. Sta...      28566    4.220209\n",
      "9                                   Apollo 13 (1995)      27035    3.887350\n",
      "\n",
      "Top 10 filmes com melhor média (>=100 avaliações):\n",
      "                                           title  n_ratings  avg_rating\n",
      "0               Shawshank Redemption, The (1994)      31126    4.457238\n",
      "1                          Godfather, The (1972)      19814    4.415085\n",
      "2                     Usual Suspects, The (1995)      24037    4.367142\n",
      "3                        Schindler's List (1993)      25777    4.363483\n",
      "4  Sunset Blvd. (a.k.a. Sunset Boulevard) (1950)       3255    4.321966\n",
      "5                              Casablanca (1942)      12507    4.319741\n",
      "6                             Rear Window (1954)       8825    4.316544\n",
      "7                        Double Indemnity (1944)       2403    4.315439\n",
      "8    Seven Samurai (Shichinin no samurai) (1954)       5751    4.314119\n",
      "9                          Third Man, The (1949)       3265    4.313629\n",
      "\n",
      "Popularidade por gênero:\n",
      "                 genre  n_movies\n",
      "0                Drama      5339\n",
      "1               Comedy      3703\n",
      "2             Thriller      1706\n",
      "3              Romance      1685\n",
      "4               Action      1473\n",
      "5                Crime      1118\n",
      "6            Adventure      1025\n",
      "7               Horror      1013\n",
      "8               Sci-Fi       754\n",
      "9              Fantasy       543\n",
      "10            Children       528\n",
      "11                 War       511\n",
      "12             Mystery       509\n",
      "13         Documentary       482\n",
      "14             Musical       436\n",
      "15           Animation       286\n",
      "16             Western       275\n",
      "17           Film-Noir       148\n",
      "18                IMAX        29\n",
      "19  (no genres listed)         1\n",
      "\n",
      "Top 10 usuários mais ativos:\n"
     ]
    },
    {
     "data": {
      "application/vnd.jupyter.widget-view+json": {
       "model_id": "a1c5e4175bf84591ac4d367d99056743",
       "version_major": 2,
       "version_minor": 0
      },
      "text/plain": [
       "FloatProgress(value=0.0, layout=Layout(width='auto'), style=ProgressStyle(bar_color='black'))"
      ]
     },
     "metadata": {},
     "output_type": "display_data"
    },
    {
     "name": "stdout",
     "output_type": "stream",
     "text": [
      "   userId  n_ratings  avg_rating\n",
      "0   59269       7359    3.266544\n",
      "1   67385       7047    3.196608\n",
      "2   14463       5169    2.404914\n",
      "3   68259       4483    3.570154\n",
      "4   27468       4449    3.831423\n",
      "5   19635       4165    3.497359\n",
      "6    3817       4165    3.111645\n",
      "7   63134       3755    3.271904\n",
      "8   58357       3697    3.003652\n",
      "9   27584       3479    3.003449\n",
      "\n",
      "Top 10 tags mais usadas:\n"
     ]
    },
    {
     "data": {
      "application/vnd.jupyter.widget-view+json": {
       "model_id": "a8f8dd95179642548fc692445ca9b8d6",
       "version_major": 2,
       "version_minor": 0
      },
      "text/plain": [
       "FloatProgress(value=0.0, layout=Layout(width='auto'), style=ProgressStyle(bar_color='black'))"
      ]
     },
     "metadata": {},
     "output_type": "display_data"
    },
    {
     "name": "stdout",
     "output_type": "stream",
     "text": [
      "                     tag  freq\n",
      "0                classic   718\n",
      "1           tumey's dvds   641\n",
      "2        based on a book   555\n",
      "3                      r   518\n",
      "4  less than 300 ratings   505\n",
      "5                 comedy   484\n",
      "6                 action   479\n",
      "7       nudity (topless)   466\n",
      "8                   70mm   464\n",
      "9                    dvd   433\n"
     ]
    }
   ],
   "source": [
    "import duckdb\n",
    "import pandas as pd\n",
    "\n",
    "# --- 1. Definir URLs dos Parquets no DagsHub ---\n",
    "base_url = \"https://dagshub.com/Matheuskcode/Big-Data-Found/raw/main/data\"\n",
    "\n",
    "files = {\n",
    "    \"ratings\": f\"{base_url}/ratings.parquet\",\n",
    "    \"movies\": f\"{base_url}/movies.parquet\",\n",
    "    \"tags\": f\"{base_url}/tags.parquet\"\n",
    "}\n",
    "\n",
    "# --- 2. Conectar ao DuckDB ---\n",
    "con = duckdb.connect()\n",
    "\n",
    "# --- 3. Criar views diretamente a partir dos Parquets remotos ---\n",
    "con.execute(f\"CREATE OR REPLACE VIEW ratings AS SELECT * FROM parquet_scan('{files['ratings']}')\")\n",
    "con.execute(f\"CREATE OR REPLACE VIEW movies  AS SELECT * FROM parquet_scan('{files['movies']}')\")\n",
    "con.execute(f\"CREATE OR REPLACE VIEW tags    AS SELECT * FROM parquet_scan('{files['tags']}')\")\n",
    "\n",
    "# --- 4. Análises Exploratórias ---\n",
    "\n",
    "# Tamanho das tabelas\n",
    "print('Tamanhos:')\n",
    "print(con.execute(\"SELECT COUNT(*) AS n_ratings FROM ratings\").df())\n",
    "print(con.execute(\"SELECT COUNT(*) AS n_movies FROM movies\").df())\n",
    "print(con.execute(\"SELECT COUNT(*) AS n_tags FROM tags\").df())\n",
    "\n",
    "# Distribuição de notas\n",
    "print(\"\\nDistribuição de notas:\")\n",
    "print(con.execute(\"\"\"\n",
    "    SELECT rating, COUNT(*) as freq\n",
    "    FROM ratings\n",
    "    GROUP BY rating\n",
    "    ORDER BY rating\n",
    "\"\"\").df())\n",
    "\n",
    "# Top 10 filmes mais avaliados\n",
    "print(\"\\nTop 10 filmes mais avaliados:\")\n",
    "print(con.execute(\"\"\"\n",
    "    SELECT m.title, COUNT(r.rating) as n_ratings, AVG(r.rating) as avg_rating\n",
    "    FROM ratings r\n",
    "    JOIN movies m ON r.movieId = m.movieId\n",
    "    GROUP BY m.title\n",
    "    ORDER BY n_ratings DESC\n",
    "    LIMIT 10\n",
    "\"\"\").df())\n",
    "\n",
    "# Top 10 filmes com melhor média (mínimo 100 avaliações)\n",
    "print(\"\\nTop 10 filmes com melhor média (>=100 avaliações):\")\n",
    "print(con.execute(\"\"\"\n",
    "    SELECT m.title, COUNT(r.rating) as n_ratings, AVG(r.rating) as avg_rating\n",
    "    FROM ratings r\n",
    "    JOIN movies m ON r.movieId = m.movieId\n",
    "    GROUP BY m.title\n",
    "    HAVING COUNT(r.rating) >= 100\n",
    "    ORDER BY avg_rating DESC\n",
    "    LIMIT 10\n",
    "\"\"\").df())\n",
    "\n",
    "# Gêneros mais populares\n",
    "print(\"\\nPopularidade por gênero:\")\n",
    "print(con.execute(\"\"\"\n",
    "    SELECT genre, COUNT(*) as n_movies\n",
    "    FROM (\n",
    "        SELECT movieId, UNNEST(STRING_SPLIT(genres, '|')) as genre\n",
    "        FROM movies\n",
    "    )\n",
    "    GROUP BY genre\n",
    "    ORDER BY n_movies DESC\n",
    "\"\"\").df())\n",
    "\n",
    "# Usuários mais ativos\n",
    "print(\"\\nTop 10 usuários mais ativos:\")\n",
    "print(con.execute(\"\"\"\n",
    "    SELECT userId, COUNT(*) as n_ratings, AVG(rating) as avg_rating\n",
    "    FROM ratings\n",
    "    GROUP BY userId\n",
    "    ORDER BY n_ratings DESC\n",
    "    LIMIT 10\n",
    "\"\"\").df())\n",
    "\n",
    "# Tags mais frequentes\n",
    "print(\"\\nTop 10 tags mais usadas:\")\n",
    "print(con.execute(\"\"\"\n",
    "    SELECT LOWER(tag) as tag, COUNT(*) as freq\n",
    "    FROM tags\n",
    "    GROUP BY LOWER(tag)\n",
    "    ORDER BY freq DESC\n",
    "    LIMIT 10\n",
    "\"\"\").df())"
   ]
  }
 ],
 "metadata": {
  "kernelspec": {
   "display_name": "base",
   "language": "python",
   "name": "python3"
  },
  "language_info": {
   "codemirror_mode": {
    "name": "ipython",
    "version": 3
   },
   "file_extension": ".py",
   "mimetype": "text/x-python",
   "name": "python",
   "nbconvert_exporter": "python",
   "pygments_lexer": "ipython3",
   "version": "3.12.7"
  }
 },
 "nbformat": 4,
 "nbformat_minor": 5
}
